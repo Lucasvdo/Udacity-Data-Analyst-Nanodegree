{
 "cells": [
  {
   "cell_type": "markdown",
   "metadata": {},
   "source": [
    "# Analyzing Spatial data from the GoFord bike sharing service\n",
    "### by Lucas Valerio de Oliveira\n",
    "\n",
    "## Table of Contents\n",
    "- [Introduction](#intro)\n",
    "- [Preliminary Wrangling](#wrangling)\n",
    "    -  [Gathering data and Assessing data](#gatheringassessing)\n",
    "-  [Univariate Exploration](#analysis)\n",
    "-  [Bivariate Exploration](#analysis)\n",
    "-  [Multivariate Exploration](#analysis)\n",
    "-  [References](#refs)\n",
    "\n",
    "<a id=intro></a>\n",
    "## Introduction\n",
    "\n",
    "According to Wikipedia, Ford GoBike is a public bike sharing system in California's San Francisco Bay region. Initially known as Bay Wheels, Ford GoBike is the first regional and large-scale bike-sharing system deployed in California and the west coast of the United States. It was established as bay area bike share in August 2013. As of January 2018, the Bay Wheels system had more than 2,600 bikes at 262 stations in San Francisco, East Bay and San Jose.\n",
    "\n",
    "In this study, data provided by the bike sharing program during the period of February 2019 will be analyzed. The data will be analyzed through an exploratory analysis and finally an explanatory analysis of the data will be made.\n",
    "\n",
    "<a id=wrangling></a>\n",
    "## Preliminary Wrangling"
   ]
  },
  {
   "cell_type": "code",
   "execution_count": 1,
   "metadata": {},
   "outputs": [
    {
     "ename": "ModuleNotFoundError",
     "evalue": "No module named 'geopy'",
     "output_type": "error",
     "traceback": [
      "\u001b[1;31m---------------------------------------------------------------------------\u001b[0m",
      "\u001b[1;31mModuleNotFoundError\u001b[0m                       Traceback (most recent call last)",
      "\u001b[1;32m<ipython-input-1-9e91d3e72039>\u001b[0m in \u001b[0;36m<module>\u001b[1;34m\u001b[0m\n\u001b[0;32m      8\u001b[0m \u001b[1;32mfrom\u001b[0m \u001b[0msklearn\u001b[0m\u001b[1;33m.\u001b[0m\u001b[0mcluster\u001b[0m \u001b[1;32mimport\u001b[0m \u001b[0mKMeans\u001b[0m\u001b[1;33m\u001b[0m\u001b[1;33m\u001b[0m\u001b[0m\n\u001b[0;32m      9\u001b[0m \u001b[1;32mimport\u001b[0m \u001b[0mmatplotlib\u001b[0m\u001b[1;33m.\u001b[0m\u001b[0mcm\u001b[0m \u001b[1;32mas\u001b[0m \u001b[0mcm\u001b[0m\u001b[1;33m\u001b[0m\u001b[1;33m\u001b[0m\u001b[0m\n\u001b[1;32m---> 10\u001b[1;33m \u001b[1;32mfrom\u001b[0m \u001b[0mgeopy\u001b[0m\u001b[1;33m.\u001b[0m\u001b[0mgeocoders\u001b[0m \u001b[1;32mimport\u001b[0m \u001b[0mNominatim\u001b[0m\u001b[1;33m\u001b[0m\u001b[1;33m\u001b[0m\u001b[0m\n\u001b[0m\u001b[0;32m     11\u001b[0m \u001b[1;32mimport\u001b[0m \u001b[0mtime\u001b[0m\u001b[1;33m\u001b[0m\u001b[1;33m\u001b[0m\u001b[0m\n\u001b[0;32m     12\u001b[0m \u001b[1;33m\u001b[0m\u001b[0m\n",
      "\u001b[1;31mModuleNotFoundError\u001b[0m: No module named 'geopy'"
     ]
    }
   ],
   "source": [
    "# import all packages and set plots to be embedded inline\n",
    "import numpy as np\n",
    "import pandas as pd\n",
    "import matplotlib.pyplot as plt\n",
    "import plotly.express as px\n",
    "import plotly.graph_objects as go\n",
    "import seaborn as sns\n",
    "from sklearn.cluster import KMeans\n",
    "import matplotlib.cm as cm\n",
    "from geopy.geocoders import Nominatim\n",
    "import time\n",
    "\n",
    "%matplotlib inline"
   ]
  },
  {
   "cell_type": "markdown",
   "metadata": {},
   "source": [
    "<a id=gatheringassessing></a>\n",
    "### Gathering and Assessing Data"
   ]
  },
  {
   "cell_type": "code",
   "execution_count": null,
   "metadata": {},
   "outputs": [],
   "source": [
    "df = pd.read_csv('201902-fordgobike-tripdata.csv')"
   ]
  },
  {
   "cell_type": "code",
   "execution_count": null,
   "metadata": {},
   "outputs": [],
   "source": [
    "def checkDataFrame(df,dfname = ''):\n",
    "    '''\n",
    "    This function will summary all details from Dataset like: Shape, Info and columns describe\n",
    "    '''\n",
    "    \n",
    "    print('Dataframe Summary\\n')\n",
    "    print(dfname)\n",
    "    print('='*100)\n",
    "    print('\\tRows: {} Columns {}\\n'.format(df.shape[0],df.shape[1]))\n",
    "    print('-'*100)\n",
    "    print(df.info(verbose=True))\n",
    "    print('-'*100)\n",
    "    print(df.describe())\n",
    "    print('-'*100)\n",
    "    for i in df.columns:\n",
    "        vcount = df[i].value_counts()\n",
    "        print(vcount)\n",
    "        print('-'*100)\n",
    "    print('Summary END')\n",
    "    print('='*100)"
   ]
  },
  {
   "cell_type": "code",
   "execution_count": null,
   "metadata": {},
   "outputs": [],
   "source": [
    "checkDataFrame(df,'fordgobike')"
   ]
  },
  {
   "cell_type": "markdown",
   "metadata": {},
   "source": [
    "### What is the structure of your dataset?\n",
    "\n",
    "The data has 183412 rows of records and 16 columns of data. Some tables have null data that needs to be analyzed to decide whether to be treated or remove. egarding the type of data, it is observed that date and time variables need to be treated for the DateTime type. Fields that have some ID identifier need to be converted to String, and finally the Birthday Year variable deve der analisada, uma vez que foi identificado individuos should be analyzed, since it was identified individuals who have a date of birth of 1878 and therefore we should analyze the case. Finally, the data are from the period of February 2019\n"
   ]
  },
  {
   "cell_type": "markdown",
   "metadata": {},
   "source": [
    "### What is/are the main feature(s) of interest in your dataset?\n",
    "\n",
    "What interested me most in the data was the desire to find out how the data is distributed spatially and then build a real graphical representation of that distribution,we can use the LAT data, LONG for that.\n",
    "\n",
    "In addition, I will try to find out which factors influence the duration of the trip in terms of date and time, age of users, point of departure and point of arrival and also in relation to the gender of the user.\n",
    "\n",
    "### What features in the dataset do you think will help support your investigation into your feature(s) of interest?\n",
    "\n",
    "The first part of my analysis will be important to evaluate the latitude and longitude data in relation to the following characteristics: the duration time, ages, gender and type of user. We can analyze these characteristics and see how they are distributed along the map.\n",
    "Regarding travel time I need to mainly evaluate start time information, station information and user characteristics."
   ]
  },
  {
   "cell_type": "markdown",
   "metadata": {},
   "source": [
    "<a id=cleaning></a>\n",
    "### Cleaning\n",
    "\n",
    "In this session we will adjust some information and improve the quality of the data"
   ]
  },
  {
   "cell_type": "code",
   "execution_count": null,
   "metadata": {},
   "outputs": [],
   "source": [
    "clean_df = df.copy()"
   ]
  },
  {
   "cell_type": "markdown",
   "metadata": {},
   "source": [
    "-------------------\n",
    "#### Fix all wrong types and remove null birth and gender data\n",
    "\n",
    "As stated earlier, we need to adjust the data type to ensure better data quality. The data for time and date, id-to-string data, and gender data for category will be made."
   ]
  },
  {
   "cell_type": "code",
   "execution_count": null,
   "metadata": {
    "scrolled": true
   },
   "outputs": [],
   "source": [
    "datetime_cols = ['start_time','end_time']\n",
    "id_cols =['start_station_id','end_station_id','bike_id']\n",
    "\n",
    "for i in datetime_cols:\n",
    "    clean_df[i] = pd.to_datetime(clean_df[i])\n",
    "for i in id_cols:\n",
    "    clean_df[i] = clean_df[i].astype(str)\n",
    "clean_df = clean_df[(clean_df['member_gender'].notnull())]\n",
    "clean_df = clean_df[(clean_df.member_birth_year.notnull())]\n",
    "clean_df.member_gender = clean_df.member_gender.astype('category')\n",
    "clean_df.member_birth_year = clean_df.member_birth_year.astype('int')"
   ]
  },
  {
   "cell_type": "markdown",
   "metadata": {},
   "source": [
    "**Test**"
   ]
  },
  {
   "cell_type": "code",
   "execution_count": null,
   "metadata": {},
   "outputs": [],
   "source": [
    "clean_df[id_cols].dtypes"
   ]
  },
  {
   "cell_type": "code",
   "execution_count": null,
   "metadata": {
    "scrolled": false
   },
   "outputs": [],
   "source": [
    "clean_df[datetime_cols].dtypes"
   ]
  },
  {
   "cell_type": "code",
   "execution_count": null,
   "metadata": {},
   "outputs": [],
   "source": [
    "clean_df[['member_gender','member_birth_year']].dtypes\n"
   ]
  },
  {
   "cell_type": "code",
   "execution_count": null,
   "metadata": {},
   "outputs": [],
   "source": [
    "clean_df['hour_value'] = pd.DatetimeIndex(clean_df.start_time).hour\n",
    "clean_df['day_week']  = pd.DatetimeIndex(clean_df.start_time).dayofweek\n",
    "clean_df['day']  = pd.DatetimeIndex(clean_df.start_time).day"
   ]
  },
  {
   "cell_type": "markdown",
   "metadata": {},
   "source": [
    "-------------------\n",
    "#### Check and adjust Birthday Year values\n",
    "We will remove rows that are Null and will not interfere with the study, since a wrong fill can cause deviations in the final results. The distributions of the ages will then be evaluated and we will finally remove the outliers"
   ]
  },
  {
   "cell_type": "code",
   "execution_count": null,
   "metadata": {},
   "outputs": [],
   "source": [
    "plt.boxplot(clean_df.member_birth_year)\n",
    "plt.ylabel('Birth Year');"
   ]
  },
  {
   "cell_type": "code",
   "execution_count": null,
   "metadata": {
    "scrolled": true
   },
   "outputs": [],
   "source": [
    "#Bases in boxplot lets remove all rows under 1940 (80 years).\n",
    "lower_range = 1940\n",
    "clean_df = clean_df[(clean_df.member_birth_year > lower_range)]"
   ]
  },
  {
   "cell_type": "code",
   "execution_count": null,
   "metadata": {
    "scrolled": false
   },
   "outputs": [],
   "source": [
    "plt.boxplot(clean_df.member_birth_year)\n",
    "plt.ylabel('Birth Year');"
   ]
  },
  {
   "cell_type": "markdown",
   "metadata": {},
   "source": [
    "-------------------\n",
    "#### Evaluate the data of the stations\n",
    "We will now plot the stations on the map and evaluate the null data that was found."
   ]
  },
  {
   "cell_type": "code",
   "execution_count": null,
   "metadata": {
    "scrolled": true
   },
   "outputs": [],
   "source": [
    "clean_df = clean_df[~(clean_df.member_birth_year.isna())]"
   ]
  },
  {
   "cell_type": "code",
   "execution_count": null,
   "metadata": {},
   "outputs": [],
   "source": [
    "plt.boxplot(clean_df.member_birth_year)\n",
    "plt.ylabel('Birth Year');"
   ]
  },
  {
   "cell_type": "code",
   "execution_count": null,
   "metadata": {
    "scrolled": true
   },
   "outputs": [],
   "source": [
    "#Bases in boxplot lets remove all rows under 1940 (80 years).\n",
    "lower_range = 1940\n",
    "clean_df = clean_df[(clean_df.member_birth_year > lower_range)]"
   ]
  },
  {
   "cell_type": "code",
   "execution_count": null,
   "metadata": {
    "scrolled": false
   },
   "outputs": [],
   "source": [
    "plt.boxplot(clean_df.member_birth_year)\n",
    "plt.ylabel('Birth Year');"
   ]
  },
  {
   "cell_type": "markdown",
   "metadata": {},
   "source": [
    "**Test**"
   ]
  },
  {
   "cell_type": "code",
   "execution_count": null,
   "metadata": {},
   "outputs": [],
   "source": [
    "clean_df.describe()"
   ]
  },
  {
   "cell_type": "markdown",
   "metadata": {},
   "source": [
    "### Analyze null data from bike stations\n",
    "In this session we will investigate the integrity of the longitude and latitude variables and how are the map distributions.\n",
    "\n",
    "First I will plot all stations on the map and evaluate the case of stations that are without the ID and without the name information, but are lat,long informed."
   ]
  },
  {
   "cell_type": "code",
   "execution_count": null,
   "metadata": {},
   "outputs": [],
   "source": [
    "#Lets check all stations and get info about data missing\n",
    "mask = (clean_df.start_station_name.notnull() | clean_df.start_station_name.notnull())\n",
    "station_null_df = clean_df[~mask]\n",
    "station_notnull_df = clean_df[mask]"
   ]
  },
  {
   "cell_type": "code",
   "execution_count": null,
   "metadata": {
    "scrolled": false
   },
   "outputs": [],
   "source": [
    "#Lets plot all stations and plot missing\n",
    "\n",
    "fig = go.Figure()\n",
    "\n",
    "fig.add_trace(go.Scattermapbox(\n",
    "        lat=station_null_df.start_station_latitude,\n",
    "        lon=station_null_df.start_station_longitude,\n",
    "        mode='markers',\n",
    "        marker=go.scattermapbox.Marker(\n",
    "            size=15\n",
    "        ),\n",
    "        text=['Null Start Data'],\n",
    "        name='Null Start Data'\n",
    "    ))\n",
    "fig.add_trace(go.Scattermapbox(\n",
    "        lat=station_null_df.end_station_latitude,\n",
    "        lon=station_null_df.end_station_longitude,\n",
    "        mode='markers',\n",
    "        marker=go.scattermapbox.Marker(\n",
    "            size=10\n",
    "        ),\n",
    "        text=['Null End Data'],\n",
    "        name='Null End Data'\n",
    "    ))\n",
    "\n",
    "fig.add_trace(go.Scattermapbox(\n",
    "        lat=station_notnull_df.start_station_latitude,\n",
    "        lon=station_notnull_df.start_station_longitude,\n",
    "        mode='markers',\n",
    "        marker=go.scattermapbox.Marker(\n",
    "            size=15\n",
    "        ),\n",
    "        text=['Not Null start Data'],\n",
    "        name='Not Null start Data'\n",
    "    ))\n",
    "\n",
    "fig.add_trace(go.Scattermapbox(\n",
    "        lat=station_notnull_df.end_station_latitude,\n",
    "        lon=station_notnull_df.end_station_longitude,\n",
    "        mode='markers',\n",
    "        marker=go.scattermapbox.Marker(\n",
    "            size=13\n",
    "        ),\n",
    "        text=['Not Null end Data'],\n",
    "        name='Not Null end Data'\n",
    "    ))\n",
    "\n",
    "fig.update_layout(\n",
    "    hovermode='closest',\n",
    "    mapbox=dict(\n",
    "        style='carto-positron',\n",
    "        bearing=0,\n",
    "        center=go.layout.mapbox.Center(\n",
    "            lat=37.6,\n",
    "            lon=-122.1\n",
    "        ),\n",
    "        pitch=0,\n",
    "        zoom=8\n",
    "    )\n",
    ")\n",
    "\n",
    "fig.show()"
   ]
  },
  {
   "cell_type": "markdown",
   "metadata": {},
   "source": [
    "Through the previous visualization, it is noted that the null data match the same area, so removing this data will not affect the studies, since there are no offsets between areas with null name and non-null. That way I will choose to remove the data, because each station corresponds to a street name and to adjust the information would be necessary to tidy up given the data, which would be very laborious. However, if it were relevant to the study it would be important to retrieve the information since it could bring relevant information about the behavior of the data area."
   ]
  },
  {
   "cell_type": "code",
   "execution_count": null,
   "metadata": {},
   "outputs": [],
   "source": [
    "clean_df = station_notnull_df"
   ]
  },
  {
   "cell_type": "markdown",
   "metadata": {},
   "source": [
    "This relationship of clusters can tell us that there is a similarity between latitude, longitude and data can be grouped together to define which regions we are studying."
   ]
  },
  {
   "cell_type": "markdown",
   "metadata": {},
   "source": [
    "### How are the stations distributed? What are the regions of the study?\n",
    "\n",
    "To answer these questions we will look for what are the relationships between the pairs of geographic location latitude and longitude. And then check if there is a relationship of similarity of groups between the pairs of coordinates."
   ]
  },
  {
   "cell_type": "code",
   "execution_count": null,
   "metadata": {
    "scrolled": true
   },
   "outputs": [],
   "source": [
    "f, ax = plt.subplots(1,2,figsize=(15,7))\n",
    "plot_start = sns.scatterplot(ax=ax[0],data=clean_df,x='start_station_latitude',y='start_station_longitude');\n",
    "plot_end = sns.scatterplot(ax=ax[1],data=clean_df,x='end_station_latitude',y='end_station_longitude');"
   ]
  },
  {
   "cell_type": "markdown",
   "metadata": {},
   "source": [
    "Note that the data is separated by regions, I will create a function to get these groupings through cauterization and assign a centroide to each of them that I will call the macro region, then I will increase the number of clusters to get the micro regions along the data."
   ]
  },
  {
   "cell_type": "code",
   "execution_count": null,
   "metadata": {},
   "outputs": [],
   "source": [
    "#Lets create macro and micro regions with Kmeans Clustering\n",
    "kmeans_start_macro = KMeans(n_clusters=3, random_state=0).fit(clean_df[['start_station_latitude','start_station_longitude']])\n",
    "kmeans_end_macro = KMeans(n_clusters=3, random_state=0).fit(clean_df[['end_station_latitude','end_station_longitude']])\n",
    "clean_df['start_station_macro_region']=kmeans_start_macro.labels_\n",
    "clean_df['end_station_macro_region']=kmeans_end_macro.labels_\n",
    "\n",
    "kmeans_start_micro = KMeans(n_clusters=6, random_state=0).fit(clean_df[['start_station_latitude','start_station_longitude']])\n",
    "kmeans_end_micro = KMeans(n_clusters=6, random_state=0).fit(clean_df[['end_station_latitude','end_station_longitude']])\n",
    "clean_df['start_station_micro_region']=kmeans_start_micro.labels_\n",
    "clean_df['end_station_micro_region']=kmeans_end_micro.labels_\n",
    "\n",
    "clean_df['start_station_macro_region']= clean_df['start_station_macro_region'].astype('category')\n",
    "clean_df['end_station_macro_region']=clean_df['end_station_macro_region'].astype('category')\n",
    "clean_df['start_station_micro_region']=clean_df['start_station_micro_region'].astype('category')\n",
    "clean_df['end_station_micro_region']=clean_df['end_station_micro_region'].astype('category')"
   ]
  },
  {
   "cell_type": "markdown",
   "metadata": {},
   "source": [
    "In parallel I want to look for what are the names of the regions since the cauterization method only provides us with a centroide. In this way I built a function based on a use of the GeoPY Python library, which accesses the information from a repository."
   ]
  },
  {
   "cell_type": "code",
   "execution_count": null,
   "metadata": {},
   "outputs": [],
   "source": [
    "#Function to get Lat Long Macro and micro names\n",
    "geolocator = Nominatim(user_agent=\"test_id2\")\n",
    "def findaddress(latlonglist,geolocator):\n",
    "    '''Function to get address from lat_log list'''\n",
    "    address = []\n",
    "    for i in latlonglist:\n",
    "        lat = i[0]\n",
    "        long = i[1]\n",
    "        string = str(lat)+','+str(long)\n",
    "        location = geolocator.reverse(string)\n",
    "        loc_addr = location.raw['address']\n",
    "        address.append([loc_addr,i])\n",
    "        time.sleep(1)\n",
    "    return address"
   ]
  },
  {
   "cell_type": "code",
   "execution_count": null,
   "metadata": {},
   "outputs": [],
   "source": [
    "#Get infos about lat_long from cluster centers to define macro and micro region labels\n",
    "macro_start_names = findaddress(kmeans_start_macro.cluster_centers_,geolocator)\n",
    "macro_end_names = findaddress(kmeans_start_macro.cluster_centers_,geolocator)\n",
    "micro_start_names = findaddress(kmeans_start_micro.cluster_centers_,geolocator)\n",
    "micro_end_names = findaddress(kmeans_start_micro.cluster_centers_,geolocator)"
   ]
  },
  {
   "cell_type": "markdown",
   "metadata": {},
   "source": [
    "An example will be made to get macro regions and micro regions. These functions can be used to assign new information to centrodes and enrich study data."
   ]
  },
  {
   "cell_type": "code",
   "execution_count": null,
   "metadata": {
    "scrolled": true
   },
   "outputs": [],
   "source": [
    "macro_start_names"
   ]
  },
  {
   "cell_type": "code",
   "execution_count": null,
   "metadata": {
    "scrolled": true
   },
   "outputs": [],
   "source": [
    "micro_start_names"
   ]
  },
  {
   "cell_type": "markdown",
   "metadata": {},
   "source": [
    "The following are the macro and micro regions defined by the Kmeans cauterization method:"
   ]
  },
  {
   "cell_type": "code",
   "execution_count": null,
   "metadata": {
    "scrolled": false
   },
   "outputs": [],
   "source": [
    "f, ax = plt.subplots(1,2,figsize=(15,7))\n",
    "plot_start = sns.scatterplot(ax=ax[0],data=clean_df,\n",
    "                             x='start_station_latitude',y='start_station_longitude', hue=\"start_station_macro_region\");\n",
    "\n",
    "plot_end = sns.scatterplot(ax=ax[1],data=clean_df,\n",
    "                           x='end_station_latitude',y='end_station_longitude', hue=\"start_station_macro_region\");\n",
    "ax[0].set_title('Macro Regions - Start Trip');\n",
    "ax[1].set_title('Macro Regions - End Trip');"
   ]
  },
  {
   "cell_type": "code",
   "execution_count": null,
   "metadata": {
    "scrolled": true
   },
   "outputs": [],
   "source": [
    "f, ax = plt.subplots(1,2,figsize=(15,7))\n",
    "plot_start = sns.scatterplot(ax=ax[0],data=clean_df,\n",
    "                             x='start_station_latitude',y='start_station_longitude', hue=\"start_station_micro_region\");\n",
    "\n",
    "plot_end = sns.scatterplot(ax=ax[1],data=clean_df,\n",
    "                           x='end_station_latitude',y='end_station_longitude', hue=\"start_station_micro_region\");"
   ]
  },
  {
   "cell_type": "code",
   "execution_count": null,
   "metadata": {},
   "outputs": [],
   "source": [
    "clean_df.info()"
   ]
  },
  {
   "cell_type": "markdown",
   "metadata": {},
   "source": [
    "With the data adjusted in the proper way I will begin the next session evaluating each variable important for spatial analysis and in relation to the trips made."
   ]
  },
  {
   "cell_type": "code",
   "execution_count": null,
   "metadata": {},
   "outputs": [],
   "source": [
    "#Save clean data as master\n",
    "clean_df.to_csv('clean_master_fordgobike.csv', index=False)"
   ]
  },
  {
   "cell_type": "code",
   "execution_count": null,
   "metadata": {},
   "outputs": [],
   "source": [
    "#load master data\n",
    "master_df = clean_df.copy()"
   ]
  },
  {
   "cell_type": "markdown",
   "metadata": {},
   "source": [
    "<a id=uniexp></a>\n",
    "## Univariate Exploration\n",
    "\n"
   ]
  },
  {
   "cell_type": "markdown",
   "metadata": {},
   "source": [
    "## Relative to time variables"
   ]
  },
  {
   "cell_type": "markdown",
   "metadata": {},
   "source": [
    "We will start evaluating the distribution of trips over time. It will be analyzed in the following ways: by hour, day of the week, per week, and by Day in the Month."
   ]
  },
  {
   "cell_type": "markdown",
   "metadata": {},
   "source": [
    "#### How is the distribution of travel over the hours of the day?"
   ]
  },
  {
   "cell_type": "code",
   "execution_count": null,
   "metadata": {
    "scrolled": false
   },
   "outputs": [],
   "source": [
    "#by hour\n",
    "plt.figure(figsize=(10,5))\n",
    "plt.bar(master_df['hour_value'].value_counts().index,master_df['hour_value'].value_counts(),color='#28627A',width=1)\n",
    "plt.xlabel('Hour');\n",
    "plt.ylabel('Frequency');\n",
    "plt.title('Start Trip hour vs Frequency');"
   ]
  },
  {
   "cell_type": "markdown",
   "metadata": {},
   "source": [
    "#### Observation:\n",
    "\n",
    "Based on the graphs above it is observed that there is a higher demand for the service in the hours between the first part of the morning 8am and the late afternoon 5pm. This is associated with the time that people are leaving home more for work and their appointments and the time that people are returning from their appointments. It is observed that during the early hours and the time that has less the search for the service.\n"
   ]
  },
  {
   "cell_type": "markdown",
   "metadata": {},
   "source": [
    "#### How is the distribution of travel over the day in weeks?"
   ]
  },
  {
   "cell_type": "code",
   "execution_count": null,
   "metadata": {
    "scrolled": false
   },
   "outputs": [],
   "source": [
    "#byweek\n",
    "weekday = ['Monday', 'Tuesday', 'Wednesday', 'Thursday', 'Friday', 'Saturday', 'Sunday']\n",
    "plt.figure(figsize=(5,5))\n",
    "plt.barh(master_df['day_week'].value_counts().index,master_df['day_week'].value_counts(),color='#28627A')\n",
    "plt.yticks(np.arange(0,7),weekday)\n",
    "plt.ylabel('Day in Week');\n",
    "plt.xlabel('Frequency');\n",
    "plt.title('Start Trip day of Week vs Frequency');"
   ]
  },
  {
   "cell_type": "markdown",
   "metadata": {},
   "source": [
    "#### Observation:\n",
    "\n",
    "Regarding the use during the days of the week, the service has higher demand during Mondays and Friday, and Thursday is the day when demand is higher. On weekends, demand for the service decreases by almost half.\n"
   ]
  },
  {
   "cell_type": "markdown",
   "metadata": {},
   "source": [
    "#### How is the distribution of travel over the days in month?"
   ]
  },
  {
   "cell_type": "code",
   "execution_count": null,
   "metadata": {},
   "outputs": [],
   "source": [
    "#bydayinmonth\n",
    "plt.figure(figsize=(7,10))\n",
    "plt.barh(master_df['day'].value_counts().index,master_df['day'].value_counts(),color='#28627A')\n",
    "plt.yticks(np.arange(0,29,step=1))\n",
    "plt.ylabel('All Days in February/2019');\n",
    "plt.xlabel('Frequency');\n",
    "plt.title('Start Trip in each day of February 2019 vs Frequency');"
   ]
  },
  {
   "cell_type": "markdown",
   "metadata": {},
   "source": [
    "#### Observation:\n",
    "\n",
    "During the month, the pattern of higher frequency of use during weekdays and the reduction on weekends are noted.\n",
    "An important point to investigate is the relationship of time during weekend and weekdays, and to verify how this trip occurs in terms of time and distances from the displacements. In addition we can check if the age of people who use the service during the week is different from weekends."
   ]
  },
  {
   "cell_type": "markdown",
   "metadata": {},
   "source": [
    "### Regarding user variables"
   ]
  },
  {
   "cell_type": "markdown",
   "metadata": {},
   "source": [
    "#### What is the distribution of genders across the data from bike trips?"
   ]
  },
  {
   "cell_type": "code",
   "execution_count": null,
   "metadata": {},
   "outputs": [],
   "source": [
    "plt.figure(figsize=(5,5))\n",
    "gender = master_df['member_gender'].value_counts()\n",
    "plt.bar(gender.index,gender,color='#28627A')\n",
    "#plt.ylabel('Day in Week');\n",
    "#plt.xlabel('Frequency');\n",
    "plt.title('Gender Relative values');"
   ]
  },
  {
   "cell_type": "markdown",
   "metadata": {},
   "source": [
    "#### Observation:\n",
    "It is evident that the program has a greater use by men in about 80000 users more male than female."
   ]
  },
  {
   "cell_type": "markdown",
   "metadata": {},
   "source": [
    "\n",
    "#### How is the distribution of users' birth dates?"
   ]
  },
  {
   "cell_type": "code",
   "execution_count": null,
   "metadata": {},
   "outputs": [],
   "source": [
    "plt.figure(figsize=(6,6))\n",
    "genderyear = master_df['member_birth_year']\n",
    "plt.hist(genderyear,bins = 15, density=True, color='#28627A')\n",
    "plt.xlabel('Birth Year range');\n",
    "plt.ylabel('Frequency');\n",
    "plt.title('Density birth year values');"
   ]
  },
  {
   "cell_type": "markdown",
   "metadata": {},
   "source": [
    "#### Observation:\n",
    "users have an age distribution inclined to the right and with high frequency values ​​in the region of birth in 1990. The smallest year was 1940, showing that there are users among all age groups, but with greater concentration in young people, adults and lower in the elderly."
   ]
  },
  {
   "cell_type": "markdown",
   "metadata": {},
   "source": [
    "#### How often are users subscribed to the bike sharing program?"
   ]
  },
  {
   "cell_type": "code",
   "execution_count": null,
   "metadata": {},
   "outputs": [],
   "source": [
    "plt.figure(figsize=(5,5))\n",
    "genderyear = master_df['user_type'].value_counts()\n",
    "plt.bar(genderyear.index,genderyear,color='#28627A',width=0.5)\n",
    "plt.xlabel('User Type');\n",
    "plt.ylabel('Frequency');\n",
    "plt.title('User type vs Frequency');"
   ]
  },
  {
   "cell_type": "markdown",
   "metadata": {},
   "source": [
    "#### Observation:\n",
    "\n",
    "It is noticed that the number of registered users is approximately 8 times greater than the customers. This indicates that there is a high enrollment rate for the use of bikes"
   ]
  },
  {
   "cell_type": "markdown",
   "metadata": {},
   "source": [
    "### Regarding travel-related variables \n",
    "\n",
    "#### What are the most used stations? Is there a segregation of regions in terms of the distribution of latitudes and longitudes?"
   ]
  },
  {
   "cell_type": "code",
   "execution_count": null,
   "metadata": {},
   "outputs": [],
   "source": [
    "startstation = master_df['start_station_name'].value_counts()\n",
    "plt.figure(figsize=(10,5))\n",
    "fig = plt.barh(startstation[:10].index,startstation[:10],color='#28627A')\n",
    "plt.xlabel('Frequency');\n",
    "plt.ylabel('Start Stations');\n",
    "plt.title('Top 25 Most Used at Start Stations');"
   ]
  },
  {
   "cell_type": "code",
   "execution_count": null,
   "metadata": {
    "scrolled": true
   },
   "outputs": [],
   "source": [
    "endstation = master_df['end_station_name'].value_counts()\n",
    "plt.figure(figsize=(10,5))\n",
    "fig = plt.barh(endstation[:10].index,endstation[:10],color='#28627A')\n",
    "plt.xlabel('Frequency');\n",
    "plt.ylabel('Start Stations');\n",
    "plt.title('Top 25 Most Used at End Stations');"
   ]
  },
  {
   "cell_type": "code",
   "execution_count": null,
   "metadata": {
    "scrolled": false
   },
   "outputs": [],
   "source": [
    "master_df[['start_station_latitude','start_station_longitude']].hist(bins=5,color='#28627A');\n",
    "master_df[['end_station_latitude','end_station_longitude']].hist(bins=5,color='#28627A');"
   ]
  },
  {
   "cell_type": "markdown",
   "metadata": {},
   "source": [
    "#### Observation\n",
    "In a quick analysis of origin and destination, we can notice that the displacement occurs mostly with starting station Market St at 10th St and end at san Francisco Caltrain Station 2. This indicates that we can find a pattern of displacement of people in the region.\n",
    "\n",
    "In addition, histograms reinforce the idea that displacements are made in specific groups of the bike program region and therefore we can group them through specific techniques, this would enrich our data in relation to the regions of the program since there are no displacements between the large groups of data region. We could study what is the urban mobility pattern of the region with source and destination data and include user information."
   ]
  },
  {
   "cell_type": "markdown",
   "metadata": {},
   "source": [
    "#### What is the distribution of travel times?"
   ]
  },
  {
   "cell_type": "code",
   "execution_count": null,
   "metadata": {},
   "outputs": [],
   "source": [
    "plt.hist(data=master_df, x='duration_sec',color='#28627A');\n",
    "plt.xlabel('Trip Duration in Seconds');"
   ]
  },
  {
   "cell_type": "code",
   "execution_count": null,
   "metadata": {},
   "outputs": [],
   "source": [
    "master_df['duration_sec'].describe(percentiles=[.99])"
   ]
  },
  {
   "cell_type": "code",
   "execution_count": null,
   "metadata": {},
   "outputs": [],
   "source": [
    "master_df = master_df[master_df['duration_sec'] < 3600]"
   ]
  },
  {
   "cell_type": "code",
   "execution_count": null,
   "metadata": {
    "scrolled": true
   },
   "outputs": [],
   "source": [
    "bins = np.arange(0, 3177, 60)\n",
    "ticks = np.arange(0, 3177, 900)\n",
    "plt.hist(data=master_df, x='duration_sec', bins=bins,color='#28627A');\n",
    "plt.xticks(ticks, ticks);\n",
    "plt.xlabel('Trip Duration in Secound');"
   ]
  },
  {
   "cell_type": "markdown",
   "metadata": {},
   "source": [
    "#### Observation\n",
    "It is observed that it was necessary to make an adjustment of the plotted data, referring to the duration of the trip. This is because there was a very high value of 84548 seconds. In these senses we can disregard trips longer than 1 hour or so 3600 seconds, because they are very destonating values of the general distribution of travel time."
   ]
  },
  {
   "cell_type": "markdown",
   "metadata": {},
   "source": [
    "### Discuss the distribution(s) of your variable(s) of interest. Were there any unusual points? Did you need to perform any transformations?\n",
    "\n",
    "The variation that caught my attention most were latitude and longitude, since these distributions seem to be concentrated in fixed regions, as seen in the graph of the data cleaning session. I'll see how they're related and try to group them together to generate more information in the study regions relationships. It was not necessary to perform transformations in the data of lat,long \n",
    " \n",
    "### Of the features you investigated, were there any unusual distributions? Did you perform any operations on the data to tidy, adjust, or change the form of the data? If so, why did you do this?\n",
    "\n",
    "The travel time variable showed a distribution very out of the ordinary, I had to adjust the data based on the analysis of the 99% quartile and found that only one information was given discrepant time and i chose to remove it and then generate a new distribution chart that seemed much more realistic."
   ]
  },
  {
   "cell_type": "markdown",
   "metadata": {},
   "source": [
    "<a id=biexp></a>\n",
    "## Bivariate Exploration\n",
    "\n",
    "Let's analyze the correlations and look for what relationships exist between the data"
   ]
  },
  {
   "cell_type": "markdown",
   "metadata": {},
   "source": [
    "#### Which columns are correlated?"
   ]
  },
  {
   "cell_type": "code",
   "execution_count": null,
   "metadata": {},
   "outputs": [],
   "source": [
    "corr = master_df.corr()\n",
    "\n",
    "# Generate a mask for the upper triangle\n",
    "mask = np.triu(np.ones_like(corr, dtype=bool))\n",
    "\n",
    "# Set up the matplotlib figure\n",
    "f, ax = plt.subplots(figsize=(11, 9))\n",
    "\n",
    "# Generate a custom diverging colormap\n",
    "cmap = sns.diverging_palette(230, 20, as_cmap=True)\n",
    "\n",
    "# Draw the heatmap with the mask and correct aspect ratio\n",
    "sns.heatmap(corr, mask=mask, cmap=cmap, vmax=.3, center=0,\n",
    "            square=True, linewidths=.5, cbar_kws={\"shrink\": .5});"
   ]
  },
  {
   "cell_type": "markdown",
   "metadata": {},
   "source": [
    "#### Observation\n",
    "\n",
    "We observed that the correlation between latitude and longitude data are strongly related while the age and duration variables are partially related. Therefore, we will evaluate the data regions to follow the studies. In general, information does not bring much news, but it is important to follow the approach of spatial analysis, because it demonstrates a strong relationship between this information.\n",
    "\n",
    "Through the results obtained above we can notice that the displacement between macro regions almost does not happen, but between the micro regions, especially those that belong to macro regions at the bottom of the chart, have many trips that start in one micro and end in another given the user's starting origin.\n"
   ]
  },
  {
   "cell_type": "markdown",
   "metadata": {},
   "source": [
    "### Evaluating data against macro regions\n",
    "#### What is the relationship of the date of birth year within the macro regions?"
   ]
  },
  {
   "cell_type": "code",
   "execution_count": null,
   "metadata": {
    "scrolled": false
   },
   "outputs": [],
   "source": [
    "plt.figure(figsize=(8,8))\n",
    "sns.violinplot(data=master_df, x='start_station_macro_region', y='member_birth_year', color='crimson', inner='quartile');\n",
    "plt.xlabel('Macro region')\n",
    "plt.ylabel('Birth year')\n",
    "plt.title('Age Vs Macro Region');"
   ]
  },
  {
   "cell_type": "markdown",
   "metadata": {},
   "source": [
    "#### Observation\n",
    "\n",
    "We can see from this graph that the people who are in Macro region 1 have their birth date around 1995, we can say that the members of this region in general are younger than the members of other macro regions. who have more distributed ages along the dates of birth. The members of the macro region 1 have an age distributed around the year 1985, while the members of the macro region 2 have more frequent births in 1988 and later a greater"
   ]
  },
  {
   "cell_type": "markdown",
   "metadata": {},
   "source": [
    "#### How does the year of birth vary with travel times?\n"
   ]
  },
  {
   "cell_type": "code",
   "execution_count": null,
   "metadata": {
    "scrolled": false
   },
   "outputs": [],
   "source": [
    "sns.displot(master_df, x=\"member_birth_year\", y=\"duration_sec\");"
   ]
  },
  {
   "cell_type": "markdown",
   "metadata": {},
   "source": [
    "#### Oservation\n",
    "\n",
    "The data obtained shows that there is a higher concentration of trips for members born between 1980 and 2000, indicated by the strong color of the data. In addition, longer journeys begin to fall as the limb age increases. In general, younger members make trips with longer time, but are more focused on a value of 500 seconds of travel, which is around 10 minutes of travel. This is an interesting result for evaluating how each area behaves in relation to the general view."
   ]
  },
  {
   "cell_type": "markdown",
   "metadata": {},
   "source": [
    "#### How do average distances relate to macro regions?"
   ]
  },
  {
   "cell_type": "code",
   "execution_count": null,
   "metadata": {
    "scrolled": true
   },
   "outputs": [],
   "source": [
    "sns.barplot(data=master_df, x=\"start_station_macro_region\", y=\"duration_sec\")\n",
    "plt.xlabel('Macro region')\n",
    "plt.ylabel('duration_sec')\n",
    "plt.title('Distances Vs Macro Region');"
   ]
  },
  {
   "cell_type": "markdown",
   "metadata": {},
   "source": [
    "#### Observation:\n",
    "\n",
    "We can observe that the region 0 is the one with the longest average travel time, this can be evaluated to know how the regions of the study are and to know what is the spatial relationship with this data."
   ]
  },
  {
   "cell_type": "markdown",
   "metadata": {},
   "source": [
    "#### How gender are relate to macro regions?"
   ]
  },
  {
   "cell_type": "code",
   "execution_count": null,
   "metadata": {
    "scrolled": true
   },
   "outputs": [],
   "source": [
    "sns.countplot(data=master_df,x='start_station_macro_region',hue='user_type');"
   ]
  },
  {
   "cell_type": "markdown",
   "metadata": {},
   "source": [
    "#### Observation\n",
    "\n",
    "Here the genre follows the same pattern as the general data. There is a big difference between men and women"
   ]
  },
  {
   "cell_type": "markdown",
   "metadata": {},
   "source": [
    "#### How user type are relate to macro regions?"
   ]
  },
  {
   "cell_type": "code",
   "execution_count": null,
   "metadata": {
    "scrolled": true
   },
   "outputs": [],
   "source": [
    "sns.countplot(data=master_df,x='start_station_macro_region',hue='user_type');"
   ]
  },
  {
   "cell_type": "markdown",
   "metadata": {},
   "source": [
    "#### Observation\n",
    "\n",
    "Here the genre follows the same pattern as the general data. There is a big difference subscriber  and customer"
   ]
  },
  {
   "cell_type": "markdown",
   "metadata": {},
   "source": [
    "#### What are the relationships between the temporal variables and the macro regions of the study?"
   ]
  },
  {
   "cell_type": "code",
   "execution_count": null,
   "metadata": {
    "scrolled": false
   },
   "outputs": [],
   "source": [
    "plt.figure(figsize = [15, 15]);\n",
    "\n",
    "\n",
    "plt.subplot(3, 1, 1);\n",
    "sns.countplot(data = master_df, x = 'hour_value', hue = 'start_station_macro_region', palette = 'ch:s=.25,rot=-.35');\n",
    "ax = plt.subplot(3, 1, 2);\n",
    "\n",
    "sns.countplot(data = master_df, x = 'day_week', hue = 'start_station_macro_region', palette = 'ch:s=.25,rot=-.35');\n",
    "ax.legend(ncol = 2); # re-arrange legend to reduce overlapping\n",
    "\n",
    "ax = plt.subplot(3, 1, 3);\n",
    "sns.countplot(data = master_df, x = 'day', hue = 'start_station_macro_region', palette = 'ch:s=.25,rot=-.35');\n",
    "ax.legend(loc = 1, ncol = 2); # re-arrange legend to remove overlapping"
   ]
  },
  {
   "cell_type": "markdown",
   "metadata": {},
   "source": [
    "\n",
    "#### Observation\n",
    "\n",
    "We can notice that during the hours of the day, days of the week and days in the month, the macro region 0 is superior to all the data in the same pattern that we observed in univariate analyzes. This pattern can be seen in other regions."
   ]
  },
  {
   "cell_type": "markdown",
   "metadata": {},
   "source": [
    "## Evaluating data for micro regions\n",
    "\n",
    "#### What is the relationship of the date of birth year within the micro regions?"
   ]
  },
  {
   "cell_type": "code",
   "execution_count": null,
   "metadata": {},
   "outputs": [],
   "source": [
    "plt.figure(figsize=(8,8))\n",
    "sns.violinplot(data=master_df, x='start_station_micro_region', y='member_birth_year', color='crimson', inner='quartile');\n",
    "plt.xlabel('Macro region')\n",
    "plt.ylabel('Birth year')\n",
    "plt.title('Age Vs Micro Region');"
   ]
  },
  {
   "cell_type": "markdown",
   "metadata": {},
   "source": [
    "#### Observation\n",
    "\n",
    "When we evaluate the microregions, we evaluate d.A. two situations that are very different from the others, which are region 1 and region 3. According to the initial data of the session, we observed that there was a micro region that was basically equal to the macro region and therefore we can say that due to the similar behavior between micro region 1 and macro region 1 these data are the same. already paara micro region 3 it behaves similar to macro region 2. which is where the micro region is located."
   ]
  },
  {
   "cell_type": "markdown",
   "metadata": {},
   "source": [
    "### What is the average travel time in micro regions?\n"
   ]
  },
  {
   "cell_type": "code",
   "execution_count": null,
   "metadata": {
    "scrolled": false
   },
   "outputs": [],
   "source": [
    "sns.barplot(data=master_df, x=\"start_station_micro_region\", y=\"duration_sec\")\n",
    "plt.xlabel('Micro region')\n",
    "plt.ylabel('duration_sec')\n",
    "plt.title('Distances Vs Micro Region');"
   ]
  },
  {
   "cell_type": "markdown",
   "metadata": {},
   "source": [
    "#### Observation\n",
    "\n",
    "We observed that micro regions 2 and 4 are the ones that have on average the longest duration of bike use and are longer or close to the values of the macro regions that are inserted. The shortest average time was with region 1 that shares the same value as the macro region."
   ]
  },
  {
   "cell_type": "markdown",
   "metadata": {},
   "source": [
    "#### How the types and genres of users are distributed in relation to micro regions"
   ]
  },
  {
   "cell_type": "code",
   "execution_count": null,
   "metadata": {
    "scrolled": true
   },
   "outputs": [],
   "source": [
    "sns.countplot(data=master_df,x='start_station_micro_region',hue='user_type');"
   ]
  },
  {
   "cell_type": "code",
   "execution_count": null,
   "metadata": {
    "scrolled": false
   },
   "outputs": [],
   "source": [
    "sns.countplot(data=master_df,x='start_station_micro_region',hue='member_gender');"
   ]
  },
  {
   "cell_type": "markdown",
   "metadata": {},
   "source": [
    "#### Observation\n",
    "\n",
    "Here the genre follows the same pattern as the general data. There is a big difference subscriber  and customer"
   ]
  },
  {
   "cell_type": "markdown",
   "metadata": {},
   "source": [
    "\n",
    "### What are the relationships between micro-regions and people's data in relation to time variables?"
   ]
  },
  {
   "cell_type": "code",
   "execution_count": null,
   "metadata": {},
   "outputs": [],
   "source": [
    "\n",
    "plt.figure(figsize = [25, 20]);\n",
    "\n",
    "\n",
    "plt.subplot(6, 1, 1);\n",
    "sns.countplot(data = master_df, x = 'hour_value', hue = 'start_station_micro_region', palette = 'ch:s=.25,rot=-.35');\n",
    "ax = plt.subplot(6, 1, 2);\n",
    "\n",
    "sns.countplot(data = master_df, x = 'day_week', hue = 'start_station_micro_region', palette = 'ch:s=.25,rot=-.35');\n",
    "ax.legend(ncol = 2); # re-arrange legend to reduce overlapping\n",
    "\n",
    "ax = plt.subplot(6, 1, 3);\n",
    "sns.countplot(data = master_df, x = 'day', hue = 'start_station_micro_region', palette = 'ch:s=.25,rot=-.35');\n",
    "ax.legend(loc = 1, ncol = 2); # re-arrange legend to remove overlapping\n",
    "\n",
    "ax = plt.subplot(6, 1, 4);\n",
    "sns.countplot(data = master_df, x = 'day_week', hue = 'member_gender', palette = 'Greens');\n",
    "\n",
    "ax = plt.subplot(6, 1, 5);\n",
    "sns.countplot(data = master_df, x = 'day_week', hue = 'user_type', palette = 'autumn');\n",
    "\n",
    "ax = plt.subplot(6, 1, 6);\n",
    "\n",
    "sns.countplot(data = master_df, x = 'day', hue = 'user_type', palette = 'spring');"
   ]
  },
  {
   "cell_type": "markdown",
   "metadata": {},
   "source": [
    "#### Observation\n",
    "\n",
    "We observe here a pattern where the micro areas it ends up showing in a little more detail the variation of the data, in relation to when we observed in a macro view. This approach shows the importance of including some information to the data that can be approached under the same perspective, but that generate totally different data."
   ]
  },
  {
   "cell_type": "markdown",
   "metadata": {},
   "source": [
    "### Talk about some of the relationships you observed in this part of the investigation. How did the feature(s) of interest vary with other features in the dataset?\n",
    "\n",
    "Regarding the macro data, we observed a very important characteristic in relation to the mean distances of the regions and how the distribution of ages in each of them varies. In relation to the data of regions, the region with the highest movement of bicycles in all periods of day and time was region 0 followed by region 2 and finally region 1. This was interesting because in addition to showing more use of the services it is the region that has the most user, but the region that has the least user shows a constancy of use over time.\n",
    "\n",
    "### Did you observe any interesting relationships between the other features (not the main feature(s) of interest)?\n",
    "\n",
    "Yes, I noticed that micro regions have large variations in relation to the first approach with macro regions and they can elucidate the relationship of distances with paths better than macro regions, since it captures these movements between zones."
   ]
  },
  {
   "cell_type": "markdown",
   "metadata": {},
   "source": [
    "<a id=multiexp></a>\n",
    "## Multivariate Exploration\n",
    "\n",
    "In this session I will discuss in a limited way the relationship of the bike stations in terms of the duration of the trips, time of departure and arrival and origin and destination of the data."
   ]
  },
  {
   "cell_type": "markdown",
   "metadata": {},
   "source": [
    "### Macro region 0\n",
    "\n",
    "I will start the study of the macro region 0 first i will analyze what are the characteristics in terms of the departure and arrival of the region in relation to the time of travel made by the user grouping the data by the stations of the region"
   ]
  },
  {
   "cell_type": "markdown",
   "metadata": {},
   "source": [
    "#### Questions:\n",
    "\n",
    "- **In macro region 0, how are spatial data distributed in terms of travel duration?**\n",
    "\n",
    "- **In macro region 0 relation to the seasons, what is the average time that most people attended?**\n",
    "\n",
    "- **In macro region 0,What is the pattern of displacement of people?**"
   ]
  },
  {
   "cell_type": "code",
   "execution_count": null,
   "metadata": {},
   "outputs": [],
   "source": [
    "macro0 = master_df[master_df['start_station_macro_region'] == 0].groupby('start_station_name').mean()\n",
    "plt.figure(figsize = [20, 20]);\n",
    "ax= plt.subplot(2, 2, 1);\n",
    "sns.scatterplot(x=\"start_station_latitude\", y=\"start_station_longitude\",hue='duration_sec',\n",
    "                   size='duration_sec', sizes=(200, 1000) ,data=macro0,palette = 'ch:s=0.8,rot=0')\n",
    "ax = plt.subplot(2, 2, 2);\n",
    "sns.scatterplot(x=\"end_station_latitude\", y=\"end_station_longitude\",hue='duration_sec',\n",
    "                   size='duration_sec', sizes=(200, 1000) ,data=macro0,palette = 'ch:s=0.8,rot=0');"
   ]
  },
  {
   "cell_type": "code",
   "execution_count": null,
   "metadata": {},
   "outputs": [],
   "source": [
    "plt.figure(figsize = [20, 10]);\n",
    "ax= plt.subplot(1, 2, 1);\n",
    "sns.scatterplot(x=\"start_station_latitude\", y=\"start_station_longitude\",hue='hour_value',\n",
    "                   size='hour_value', sizes=(0, 1000) ,data=macro0,palette = 'ch:s=.25,rot=-.35')\n",
    "ax = plt.subplot(1, 2, 2);\n",
    "sns.scatterplot(x=\"end_station_latitude\", y=\"end_station_longitude\",hue='hour_value',\n",
    "                   size='hour_value', sizes=(0, 1000) ,data=macro0,palette = 'ch:s=.25,rot=-.35');"
   ]
  },
  {
   "cell_type": "code",
   "execution_count": null,
   "metadata": {
    "scrolled": true
   },
   "outputs": [],
   "source": [
    "macro0_stations = master_df[master_df['start_station_macro_region'] == 0]\n",
    "plt.figure(figsize = [20, 10]);\n",
    "ax= plt.subplot(1, 2, 1);\n",
    "sns.scatterplot(x=\"start_station_latitude\", y=\"start_station_longitude\",hue='start_station_micro_region',\n",
    "                    s=300,data=macro0_stations,palette = 'Set2')\n",
    "ax = plt.subplot(1, 2, 2);\n",
    "sns.scatterplot(x=\"end_station_latitude\", y=\"end_station_longitude\",hue='start_station_micro_region',\n",
    "                    s=300,data=macro0_stations,palette = 'Set2');"
   ]
  },
  {
   "cell_type": "markdown",
   "metadata": {},
   "source": [
    "#### Observation:\n",
    "\n",
    "The results show that the people in the center of region 0 have long displacements in the peripheries of the region, evidenced by the first graph and short displacements in the centers. Graph two shows that the short displacements made in the region are widely used both by the morning and in the afternoon, while in the peripheries the schedule tends to be used in the morning or in the afternoon, this can be the effect of the people who will perform the task in the central region and at the end of the day returns to their homes."
   ]
  },
  {
   "cell_type": "markdown",
   "metadata": {},
   "source": [
    "### Macro region 1\n"
   ]
  },
  {
   "cell_type": "markdown",
   "metadata": {},
   "source": [
    "#### Questions:\n",
    "\n",
    "- **In macro region 1, how are spatial data distributed in terms of travel duration?**\n",
    "\n",
    "- **In macro region 1 relation to the seasons, what is the average time that most people attended?**\n",
    "\n",
    "- **In macro region 1,What is the pattern of displacement of people?**"
   ]
  },
  {
   "cell_type": "code",
   "execution_count": null,
   "metadata": {},
   "outputs": [],
   "source": [
    "macro1 = master_df[master_df['start_station_macro_region'] == 1].groupby('start_station_name').mean()\n",
    "plt.figure(figsize = [20, 10]);\n",
    "ax= plt.subplot(1, 2, 1);\n",
    "sns.scatterplot(x=\"start_station_latitude\", y=\"start_station_longitude\",hue='duration_sec',\n",
    "                   size='duration_sec', sizes=(250, 1500) ,data=macro1,palette = 'ch:s=0.8,rot=0')\n",
    "ax = plt.subplot(1, 2, 2);\n",
    "sns.scatterplot(x=\"end_station_latitude\", y=\"end_station_longitude\",hue='duration_sec',\n",
    "                   size='duration_sec', sizes=(250, 1500) ,data=macro1,palette = 'ch:s=0.8,rot=0');"
   ]
  },
  {
   "cell_type": "code",
   "execution_count": null,
   "metadata": {
    "scrolled": true
   },
   "outputs": [],
   "source": [
    "plt.figure(figsize = [20, 10]);\n",
    "ax= plt.subplot(1, 2, 1);\n",
    "sns.scatterplot(x=\"start_station_latitude\", y=\"start_station_longitude\",hue='hour_value',\n",
    "                   size='hour_value', sizes=(0, 1000) ,data=macro1,palette = 'ch:s=.25,rot=-.35')\n",
    "ax = plt.subplot(1, 2, 2);\n",
    "sns.scatterplot(x=\"end_station_latitude\", y=\"end_station_longitude\",hue='hour_value',\n",
    "                   size='hour_value', sizes=(0, 1000) ,data=macro1,palette = 'ch:s=.25,rot=-.35');"
   ]
  },
  {
   "cell_type": "code",
   "execution_count": null,
   "metadata": {
    "scrolled": false
   },
   "outputs": [],
   "source": [
    "macro1_stations = master_df[master_df['start_station_macro_region'] == 1]\n",
    "plt.figure(figsize = [20, 10]);\n",
    "ax= plt.subplot(1, 2, 1);\n",
    "sns.scatterplot(x=\"start_station_latitude\", y=\"start_station_longitude\",hue='start_station_micro_region',\n",
    "                    s=300,data=macro1_stations,palette = 'Set2')\n",
    "ax = plt.subplot(1, 2, 2);\n",
    "sns.scatterplot(x=\"end_station_latitude\", y=\"end_station_longitude\",hue='start_station_micro_region',\n",
    "                    s=300,data=macro1_stations,palette = 'Set2');"
   ]
  },
  {
   "cell_type": "markdown",
   "metadata": {},
   "source": [
    "#### Observation\n",
    "\n",
    "The results of macro region 1 have interesting characteristics, the first is that it is composed of 3 micro regions and that it suffers short displacements in the center and increases as it moves away. An interesting characteristic and the highest average time occurs in the central region, this is due to the return of people to their homes, while in the more remote regions the average time is closer to the first part of the morning, indicating a trip to the center. Finally, the analysis of trips between micro regions is evident in the last graph that shows a displacement from 3 zones to the central position of the data. That is, the most likely destination of the pattern of displacement of people is to the central region and less common to the peripheries."
   ]
  },
  {
   "cell_type": "markdown",
   "metadata": {},
   "source": [
    "### Macro region 2\n",
    "\n",
    "#### Questions:\n",
    "\n",
    "- **In macro region 2, how are spatial data distributed in terms of travel duration?**\n",
    "\n",
    "- **In macro region 2 relation to the seasons, what is the average time that most people attended?**\n",
    "\n",
    "- **In macro region 2,What is the pattern of displacement of people?**"
   ]
  },
  {
   "cell_type": "code",
   "execution_count": null,
   "metadata": {
    "scrolled": false
   },
   "outputs": [],
   "source": [
    "macro2 = master_df[master_df['start_station_macro_region'] == 2].groupby('start_station_name').mean()\n",
    "plt.figure(figsize = [20, 10]);\n",
    "ax= plt.subplot(1, 2, 1);\n",
    "sns.scatterplot(x=\"start_station_latitude\", y=\"start_station_longitude\",hue='duration_sec',\n",
    "                   size='duration_sec', sizes=(300, 1500) ,data=macro2,palette = 'ch:s=0.8,rot=0')\n",
    "ax = plt.subplot(1, 2, 2);\n",
    "sns.scatterplot(x=\"end_station_latitude\", y=\"end_station_longitude\",hue='duration_sec',\n",
    "                   size='duration_sec', sizes=(300, 1500) ,data=macro2,palette = 'ch:s=0.8,rot=0');"
   ]
  },
  {
   "cell_type": "code",
   "execution_count": null,
   "metadata": {},
   "outputs": [],
   "source": [
    "plt.figure(figsize = [20, 10]);\n",
    "ax= plt.subplot(1, 2, 1);\n",
    "sns.scatterplot(x=\"start_station_latitude\", y=\"start_station_longitude\",hue='hour_value',\n",
    "                   size='hour_value', sizes=(0, 1000) ,data=macro2,palette = 'ch:s=.25,rot=-.35')\n",
    "ax = plt.subplot(1, 2, 2);\n",
    "sns.scatterplot(x=\"end_station_latitude\", y=\"end_station_longitude\",hue='hour_value',\n",
    "                   size='hour_value', sizes=(0, 1000) ,data=macro2,palette = 'ch:s=.25,rot=-.35');"
   ]
  },
  {
   "cell_type": "code",
   "execution_count": null,
   "metadata": {
    "scrolled": true
   },
   "outputs": [],
   "source": [
    "macro2_stations = master_df[master_df['start_station_macro_region'] == 2]\n",
    "plt.figure(figsize = [20, 10]);\n",
    "ax= plt.subplot(1, 2, 1);\n",
    "sns.scatterplot(x=\"start_station_latitude\", y=\"start_station_longitude\",hue='start_station_micro_region',\n",
    "                    s=300,data=macro2_stations,palette = 'Set2')\n",
    "ax = plt.subplot(1, 2, 2);\n",
    "sns.scatterplot(x=\"end_station_latitude\", y=\"end_station_longitude\",hue='start_station_micro_region',\n",
    "                    s=300,data=macro2_stations,palette = 'Set2');"
   ]
  },
  {
   "cell_type": "markdown",
   "metadata": {},
   "source": [
    "#### Observation\n",
    "\n",
    "Region 2 has the same behavior of displacement and time of the others, but a curious fact and that when we evaluate the micro regions we observe that there are trips of people who leave the Macro zone 2 and go towards macro zone 1, that is, we have here a mobility between macro zones which we did not observe in previous cases."
   ]
  },
  {
   "cell_type": "markdown",
   "metadata": {},
   "source": [
    "### Talk about some of the relationships you observed in this part of the investigation. Were there features that strengthened each other in terms of looking at your feature(s) of interest?\n",
    "\n",
    "We observed that the central regions of the space distributions analyzed have large user movements, but in shorter times of use. People living on the outskirts tend to make longer journeys and often the destination is the center. In addition to the temporal variable, we have a more use of the service at the next time of the next 15 hours in the center in all regions, indicating that people at the end of the day are seeking to move from the center to other regions.\n",
    "\n",
    "### Were there any interesting or surprising interactions between features?\n",
    "\n",
    "Among all macro regions studied only macro region 2 presented displacement data between macrozones. Moreover, it is very evident that the displacement between the microregions is linked to the central part of the macro regions studied."
   ]
  },
  {
   "cell_type": "markdown",
   "metadata": {},
   "source": [
    "## References\n",
    "\n",
    "https://jakevdp.github.io/PythonDataScienceHandbook/04.13-geographic-data-with-basemap.html\n",
    "https://geopy.readthedocs.io/en/stable/index.html?highlight=latitude#geopy.location.Location.latitude\n",
    "https://scikit-learn.org/stable/modules/generated/sklearn.cluster.KMeans.html\n",
    "https://plotly.com/python/scattermapbox/\n",
    "https://www.geeksforgeeks.org/get-the-city-state-and-country-names-from-latitude-and-longitude-using-python/\n"
   ]
  }
 ],
 "metadata": {
  "kernelspec": {
   "display_name": "Python 3",
   "language": "python",
   "name": "python3"
  },
  "language_info": {
   "codemirror_mode": {
    "name": "ipython",
    "version": 3
   },
   "file_extension": ".py",
   "mimetype": "text/x-python",
   "name": "python",
   "nbconvert_exporter": "python",
   "pygments_lexer": "ipython3",
   "version": "3.8.3"
  }
 },
 "nbformat": 4,
 "nbformat_minor": 2
}
